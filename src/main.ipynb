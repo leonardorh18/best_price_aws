{
 "cells": [
  {
   "cell_type": "code",
   "execution_count": 32,
   "metadata": {},
   "outputs": [
    {
     "name": "stdout",
     "output_type": "stream",
     "text": [
      "buscando...https://www.terabyteshop.com.br/busca?str=monitor+144hz\n"
     ]
    }
   ],
   "source": [
    "import boto3\n",
    "import requests\n",
    "from bs4 import BeautifulSoup\n",
    "import polars as pl\n",
    "\n",
    "# URL da página que você deseja extrair os links\n",
    "search = 'monitor 144hz'\n",
    "search = search.replace(\" \", \"+\")\n",
    "url = f'https://www.terabyteshop.com.br/busca?str={search}'\n",
    "print(f\"buscando...{url}\")\n",
    "headers = {'User-Agent': 'Mozilla/5.0 (Windows NT 10.0; Win64; x64) AppleWebKit/537.36 (KHTML, like Gecko) Chrome/58.0.3029.110 Safari/537.36'}\n",
    "\n",
    "from bs4 import BeautifulSoup\n",
    "from selenium import webdriver\n",
    "driver = webdriver.Chrome()\n",
    "driver.get(url)\n",
    "html = driver.page_source\n",
    "soup = BeautifulSoup(html)\n",
    "items = soup.find_all('div', class_= \"pbox col-xs-12 col-sm-6 col-md-3 col-lg-1-5\")"
   ]
  },
  {
   "cell_type": "code",
   "execution_count": 19,
   "metadata": {},
   "outputs": [
    {
     "name": "stdout",
     "output_type": "stream",
     "text": [
      "Monitor Gamer Duex, 24 Pol, Full HD, IPS, 144Hz, 1ms, HDMI/DP, DX240ZG\n",
      "https://www.terabyteshop.com.br/produto/22846/monitor-gamer-duex-24-pol-full-hd-ips-144hz-1ms-hdmidp-dx-240zg\n",
      "Monitor Gamer Gigabyte G27Q, 27 Pol, QHD, IPS, 1ms, 144Hz, Flickerfree, HDR, HDMI/DP\n",
      "https://www.terabyteshop.com.br/produto/25501/monitor-gamer-gigabyte-g27q-27-pol-qhd-ips-1ms-144hz-flickerfree-hdr-hdmidp\n",
      "Monitor Gamer Bluecase 24 Pol, Full HD, 144Hz, 1ms, HDMI, BM242GW\n",
      "https://www.terabyteshop.com.br/produto/9471/monitor-gamer-bluecase-24-pol-full-hd-144hz-1ms-hdmi-bm242gw\n",
      "Monitor Gamer TIEM, 27 Pol, Full HD, 1Ms, 144Hz, HDMI/DP, 27P+ - Open Box\n",
      "https://www.terabyteshop.com.br/produto/19940/monitor-gamer-tiem-27-pol-full-hd-144hz-hdmidp-27p-open-box\n",
      "Monitor Gamer Bluecase 27 Pol, Full HD, 144Hz, 2ms, HDMI /DP, BM2710GWH1\n",
      "https://www.terabyteshop.com.br/produto/21387/monitor-gamer-bluecase-27-pol-full-hd-144hz-1ms-hdmi-dp-bm2710gwh1\n",
      "Monitor Gamer Samsung Odyssey, 24 Pol, Full HD, 144Hz, VA, 1ms, HDMI/DP/VGA, Freesync, LF24G35TFWLXZD\n",
      "https://www.terabyteshop.com.br/produto/19468/monitor-gamer-samsung-odyssey-24-pol-full-hd-144hz-1ms-hdmidpvga-freesync-lf24g35tfwlxzd\n",
      "Monitor Gamer AOC Agon 27 Pol Curvo, Quad HD, 144Hz, AMD Freesync, AG272QCX\n",
      "https://www.terabyteshop.com.br/produto/12260/monitor-gamer-aoc-agon-27-pol-curvo-quad-hd-144hz-amd-freesync-ag272qcx\n",
      "Monitor Gamer Bluecase 27 Pol, Full HD, 144Hz, 1ms, BM272GW\n",
      "https://www.terabyteshop.com.br/produto/9472/monitor-gamer-bluecase-bm272gw-27-pol-144hz-full-hd-1ms\n",
      "Monitor Gamer Samsung Curvo 24 Pol, Full HD, 144Hz, 1ms, FreeSync, LC24FG70FQLXZD\n",
      "https://www.terabyteshop.com.br/produto/8255/monitor-samsung-gamer-curvo-24-pol-144hz-full-hd-lc24fg70fqlxzd\n",
      "Monitor Gamer Acer 24 Pol, Full HD, 144Hz, 1ms, GN246HL\n",
      "https://www.terabyteshop.com.br/produto/7695/monitor-acer-gn246hl-led-24-full-hd-144hz-1ms\n",
      "Monitor Gamer Samsung Odyssey , 24 Pol, Curvo, Full HD, 144Hz, FreeSync, HDMI/DP, LC24RG50FZLMZD\n",
      "https://www.terabyteshop.com.br/produto/23108/monitor-gamer-samsung-odyssey-24-pol-curvo-full-hd-144hz-freesync-hdmidp-lc24rg50fzlmzd\n",
      "Monitor Gamer Asus 24 Pol, Full HD, 144Hz, 1ms, AMD FreeSync, MG248QR\n",
      "https://www.terabyteshop.com.br/produto/8210/monitor-gamer-asus-mg248qr-24-pol-full-hd-144hz-1ms-c-hdmi-adaptive-sync\n",
      "Monitor Gamer Asus 23,8 Pol, Full HD, Widescreen, 144Hz, 1ms, IPS, HDMI, DisplayPort, FreeSync, VP249QGR\n",
      "https://www.terabyteshop.com.br/produto/14545/monitor-gamer-asus-238-pol-full-hd-widescreen-144hz-1ms-hdmi-displayport-freesync-vp249qgr\n",
      "Monitor Gamer AOC Hero, 27 Pol, IPS, 144Hz, 1ms, HDMI/DP/VGA, 27G2/BK\n",
      "https://www.terabyteshop.com.br/produto/18012/monitor-gamer-aoc-hero-27-pol-ips-144hz-1ms-hdmidpvga-27g2bk\n",
      "Monitor Gamer Bluecase 24 Pol, Curvo, Full HD, 144Hz, 1Ms, BM243GC\n",
      "https://www.terabyteshop.com.br/produto/13177/monitor-gamer-bluecase-24-pol-full-hd-144hz-1ms-bm243gc\n",
      "Monitor Gamer Asus TUF Gaming LCD 31,5 Pol, Widescreen Curvo, 144Hz, 1ms, HDMI, DisplayPort, Som integrado, VG32VQ\n",
      "https://www.terabyteshop.com.br/produto/14546/monitor-gamer-asus-tuf-gaming-lcd-315-pol-widescreen-curvo-144hz-1ms-hdmi-displayport-som-integrado-vg32vq\n",
      "Monitor Gamer BlueCase 27\", LED, 144Hz, 2ms, Freesync, Borda Ultra Fina, BM2710GWCASE\n",
      "https://www.terabyteshop.com.br/produto/15741/monitor-gamer-bluecase-27-led-144hz-2ms-freesync-borda-ultra-fina-bm2710gwcase\n",
      "Monitor Gamer Warrior Kaizen, 27 Pol, Full HD, 144Hz, 1ms, IPS, RGB, HDMI/DP, FreeSync, MN201\n",
      "https://www.terabyteshop.com.br/produto/21833/monitor-gamer-warrior-kaizen-27-pol-full-hd-144hz-1ms-ips-rgb-hdmidp-freesync-mn201\n",
      "Monitor Gamer Samsung Odyssey G30, 24\", Full HD, 144Hz, VA, 1ms, FreeSync Premium, HDMI/DP, LS24BG300EL\n",
      "https://www.terabyteshop.com.br/produto/25384/monitor-gamer-samsung-odyssey-g30-24-full-hd-144hz-va-1ms-freesync-premium-hdmidp-ls24bg300el\n",
      "Monitor Gamer AOC Agon 32 Pol Curvo, Full HD, 144Hz, AG322FCX\n",
      "https://www.terabyteshop.com.br/produto/7071/monitor-gamer-aoc-agon-ag322fcx-tela-curva-32pol-led-full-hd-widescreen-vgadvihdmi\n",
      "Monitor Gamer Asus 24 Pol, Full HD, 144Hz, 1ms, VG248QE\n",
      "https://www.terabyteshop.com.br/produto/4661/monitor-gamer-asus-24-pol-led-full-hd-1080p-144hz-1ms-vg248qe\n",
      "Monitor Gamer Redragon Rediamond RGB, 25 Pol, Full HD, 144Hz, 1ms, HDMI, Display Port\n",
      "https://www.terabyteshop.com.br/produto/13922/monitor-gamer-redragon-rediamond-rgb-25-pol-full-hd-144hz-1ms-hdmi-display-port\n",
      "Monitor Gamer ReDragon Mirror, 24 Pol, FullHD, 144Hz, 1ms, HDMI/DP/DVI, GM3CS24\n",
      "https://www.terabyteshop.com.br/produto/16941/monitor-gamer-redragon-mirror-24-pol-fullhd-144hz-1ms-hdmidpdvi-gm3cs24\n",
      "Monitor Gamer Benq Zowie 24.5 Pol, 144hz, 1ms, XL2536\n",
      "https://www.terabyteshop.com.br/produto/9606/monitor-gamer-benq-zowie-xl2536-245-pol-144hz-dyac-c-hdmi\n",
      "Monitor Gamer LG 34 Pol Curvo, Full HD, 144Hz , 1ms, UltraWide, AMD FreeSync, 34UC79G\n",
      "https://www.terabyteshop.com.br/produto/7891/monitor-gamer-lg-34uc79g-34pol-ips-full-hd-144hz-2560-x-1080-219-ultrawide\n",
      "Monitor Gamer AOC Hero, 24 Pol, Full HD, 144Hz, IPS, 1ms, VGA/HDMI/DP, 24G2/BK\n",
      "https://www.terabyteshop.com.br/produto/19603/monitor-gamer-aoc-hero-24-pol-full-hd-144hz-ips-1ms-vgahdmidp-24g2bk\n",
      "Monitor Gamer Benq 24 Pol, Full HD, 144Hz, 1ms, XL2430T\n",
      "https://www.terabyteshop.com.br/produto/5315/monitor-benq-led-full-hd-24-144hz-pol-xl2430t--c-hdmi\n",
      "Monitor Gamer TIEM, 27 Pol, Full HD, 1Ms, 144Hz, HDMI/DP, 27P+\n",
      "https://www.terabyteshop.com.br/produto/16571/monitor-gamer-tiem-27-pol-full-hd-144hz-hdmidp-27p\n",
      "Monitor Gamer Acer Nitro 34 Pol, Quad HD, 144Hz, VA, 1ms, HDMI/DP, XZ342CK\n",
      "https://www.terabyteshop.com.br/produto/20033/monitor-gamer-acer-nitro-34-pol-quad-hd-144hz-va-1ms-hdmidp-xz342ck\n",
      "Monitor Gamer Samsung Odyssey G3, 27 Pol, Full HD, 144Hz, VA, 1ms, FreeSync, HDMI/DP/VGA, LF27G35TFWLXZD\n",
      "https://www.terabyteshop.com.br/produto/23329/monitor-gamer-samsung-odyssey-g3-27-pol-full-hd-144hz-va-1ms-freesync-hdmidpvga-lf27g35tfwlxzd\n",
      "Monitor Gamer AOC Hero 24 Pol, Full HD, 144hz, 1ms, AMD Freesync, G2460PF\n",
      "https://www.terabyteshop.com.br/produto/6407/monitor-aoc-gamer-hero-g2460pf-led-24-pol-full-hd-1ms-144hz-freesync-vga-dvidisplay-porthdmi\n",
      "Monitor Gamer Samsung 24 Pol, Curvo, Full HD, 144hz, LC24RG50FQLMZD\n",
      "https://www.terabyteshop.com.br/produto/13199/monitor-gamer-samsung-24-pol-curvo-full-hd-144hz-4ms-lc24rg50fqlmzd\n",
      "Monitor Gamer Samsung 27 Pol Curvo, Full HD, 144hz, 1ms, LC27FG73FQLXZD\n",
      "https://www.terabyteshop.com.br/produto/10258/monitor-gamer-samsung-27-pol-led-full-hd-1080p-144hz-1ms-lc27fg73fqlxzd\n",
      "Monitor Gamer Asus 27 Pol, WQHD, 144Hz, 1ms, AMD FreeSync, MG278Q\n",
      "https://www.terabyteshop.com.br/produto/6047/monitor-gamer-asus-led-27-pol-preto-mg278q-2560x1440-144hz-hdmidpdviusb30\n",
      "Monitor Gamer Asus 24 Pol, Full HD, 144Hz, 1ms, Adaptive-Sync, Som Integrado, MG248Q\n",
      "https://www.terabyteshop.com.br/produto/6481/monitor-gamer-asus-24-pol-preto-mg248q-c-hdmi\n",
      "Monitor Gamer LG UltraGear, 23,8\", Full HD, 144Hz, IPS, 1ms, HDR, FreeSync, 24GN600-B\n",
      "https://www.terabyteshop.com.br/produto/25386/monitor-gamer-lg-ultragear-238-full-hd-144hz-ips-1ms-hdr-freesync-24gn600\n",
      "Monitor Gamer Acer Nitro XZ242Q, 24 Pol, FullHD, 144Hz, HDMI/DP, XZ242Q\n",
      "https://www.terabyteshop.com.br/produto/17452/monitor-gamer-acer-nitro-xz242q-24-pol-fullhd-144hz-hdmidp-xz242q\n",
      "Monitor Gamer Curvo Bluecase 27 Pol, Full HD, 144Hz, 1ms, DisplayPort/HDMI, BM275GC\n",
      "https://www.terabyteshop.com.br/produto/11334/monitor-gamer-curvo-bluecase-27-pol-full-hd-144hz-1msgtg-bm275gc\n",
      "Monitor Gamer ASUS 27 Pol, Full HD, 1ms, IPS, 144Hz, G-Sync, HDMI/DP/DVI, Altura Ajustável, VG279Q\n",
      "https://www.terabyteshop.com.br/produto/16710/monitor-gamer-asus-27-pol-full-hd-1ms-ips-144hz-hdmidpdvi-vg279q\n",
      "Monitor Gamer Asus TUF Gaming Led 23,8 Pol, Widescreen, Full HD, 144Hz, 1ms, IPS, HDMI, DisplayPort, FreeSync, Altura Ajustável, VG249Q\n",
      "https://www.terabyteshop.com.br/produto/14550/monitor-gamer-asus-tuf-gaming-led-238-pol-widescreen-full-hd-144hz-1ms-hdmi-displayport-freesync-vg249q\n",
      "Monitor Gamer Redragon Blackmagic RGB, 27 Pol, Full HD, 144Hz, 1ms, HDMI, Display Port\n",
      "https://www.terabyteshop.com.br/produto/13924/monitor-gamer-redragon-blackmagic-rgb-27-pol-full-hd-144hz-1ms-hdmi-display-port\n",
      "Monitor Gamer LG 24 Pol, Full HD, 144hz, 1ms, FreeSync, 24GL600F-B\n",
      "https://www.terabyteshop.com.br/produto/13047/monitor-gamer-lg-24-pol-full-hd-144hz-1ms-freesync-24gl600f-b\n",
      "Monitor Gamer BlueCase 24\", LED, 144Hz, 1ms, Freesync, Borda Ultra Fina, BM243GCCASE\n",
      "https://www.terabyteshop.com.br/produto/15754/monitor-gamer-bluecase-24-led-144hz-1ms-freesync-borda-ultra-fina-bm243gccase\n",
      "Monitor Gamer Acer Pretador XB1 27 Pol, WQHD, 144Hz, 1ms, G-Sync\n",
      "https://www.terabyteshop.com.br/produto/7070/monitor-gamer-acer-predator-xb1-xb271hu-27pol-ips-full-hd-wqhd-2560-x-1440-169-widescreen-umhx1aa004\n",
      "Monitor Gamer SuperFrame Vision, 23.8 Pol, Full HD, IPS, G-Sync/FreeSync, 1ms, 144Hz, HDMI/DP, SFV2409\n",
      "https://www.terabyteshop.com.br/produto/20042/monitor-gamer-superframe-vision-238-pol-full-hd-ips-g-syncfreesync-1ms-144hz-hdmidp-sfv2409\n",
      "Monitor Gamer Benq Zowie 24 Pol, Full HD, 144Hz, 1ms, XL2430\n",
      "https://www.terabyteshop.com.br/produto/7998/monitor-gamer-benq-zowie-xl2430-full-hd-24-pol-144hz-1ms\n",
      "Monitor Gamer Benq 27 Pol, Full HD, 144Hz, 1ms, XL2720Z\n",
      "https://www.terabyteshop.com.br/produto/5020/monitor-benq-led-3d-full-hd-27-pol-xl2720z-c-hdmi\n",
      "Monitor Gamer Acer 23.6 Pol,  Full HD, 144Hz, 1ms, KG241Q\n",
      "https://www.terabyteshop.com.br/produto/10937/monitor-acer-kg241q-236-pol-144hz-1ms-full-hd-hdmi-dvi-preto\n",
      "Monitor Gamer Samsung 23.5 Pol, Full HD, QLED, 144HZ, 1ms, LC24FG73FQLXZD\n",
      "https://www.terabyteshop.com.br/produto/10259/monitor-gamer-samsung-235-pol-led-full-hd-1080p-144hz-1ms-lc24fg73fqlxzd\n",
      "Monitor Gamer Redragon Sapphire 24 Pol, Full HD, IPS, 1ms, 144Hz, HDMI/DP/VGA, M2444PH\n",
      "https://www.terabyteshop.com.br/produto/20082/monitor-gamer-redragon-sapphire-24-pol-full-hd-ips-1ms-144hz-hdmidpvga-m2444ph\n",
      "Monitor Gamer BlueCase 27\", LED, 144Hz, 2ms, Curvo, Freesync, Borda Ultra Fina, BM2711GC\n",
      "https://www.terabyteshop.com.br/produto/15745/monitor-gamer-bluecase-27-led-144hz-1ms-curvo-freesync-borda-ultra-fina-bm2711gwcase\n",
      "Monitor Gamer LG UltraGear, 27 Pol, Full HD, IPS, 144Hz, 1ms, HDR, FreeSync, G-Sync, HDMI/DP, 27GL650F-B\n",
      "https://www.terabyteshop.com.br/produto/23335/monitor-gamer-lg-ultragear-27-pol-full-hd-ips-144hz-1ms-hdr-freesync-g-sync-hdmidp-27gl650f-b\n",
      "Monitor Gamer AOC Agon 27 Pol Curvo, Full HD, 144Hz, AMD Freesync, AG272FCX\n",
      "https://www.terabyteshop.com.br/produto/10031/monitor-gamer-aoc-agon-ag272fcx-tela-curva-27pol-144hz-led-full-hd-widescreen-freesync-vgadvihdmi\n",
      "Monitor Gamer Benq Zowie 24 Pol, Full HD, 144Hz, 1ms, XL2411P\n",
      "https://www.terabyteshop.com.br/produto/8913/monitor-gamer-benq-zowie-24-pol-144hz-full-hd-xl2411p\n",
      "Monitor Gamer Bluecase 27 Pol, Full HD, 144Hz, 1ms, BM277GW\n",
      "https://www.terabyteshop.com.br/produto/13643/monitor-gamer-bluecase-27-pol-full-hd-144hz-1ms-bm277gw\n"
     ]
    }
   ],
   "source": [
    "for item in items:\n",
    "    item_list = []\n",
    "    try:\n",
    "        title = item.find('a', class_='prod-name')['title']\n",
    "    except:\n",
    "        title =  ''\n",
    "    try:\n",
    "        link = item.find('a', class_='prod-name')['href']\n",
    "    except:\n",
    "        link = ''\n",
    "    try:\n",
    "        old_price = item.find('div', class_ = 'prod-old-price').span.text\n",
    "    except:\n",
    "        old_price = ''\n",
    "    try: \n",
    "        new_price = item.find('div', class_ = 'prod-new-price').span.text\n",
    "    except:\n",
    "        new_price = ''\n",
    "    try:\n",
    "        juros = item.find('div', class_ = 'prod-juros').text\n",
    "    except:\n",
    "        juros = ''\n",
    "    item_list.append([title, link, old_price, new_price, juros])\n",
    "\n",
    "df = pl.DataFrame(item_list, {'title', 'link', 'old_price', 'new_price', 'juros'})\n"
   ]
  },
  {
   "cell_type": "code",
   "execution_count": 26,
   "metadata": {},
   "outputs": [
    {
     "data": {
      "text/plain": [
       "'R$ 729,90'"
      ]
     },
     "execution_count": 26,
     "metadata": {},
     "output_type": "execute_result"
    }
   ],
   "source": [
    "items[0].find('div', class_ = 'prod-old-price').span.text\n",
    "items[0].find('div', class_ = 'prod-new-price').span.text"
   ]
  },
  {
   "cell_type": "code",
   "execution_count": 31,
   "metadata": {},
   "outputs": [
    {
     "data": {
      "text/plain": [
       "'12x de R$ 71,56 sem juros'"
      ]
     },
     "execution_count": 31,
     "metadata": {},
     "output_type": "execute_result"
    }
   ],
   "source": [
    "items[0].find('div', class_ = 'prod-juros').text"
   ]
  }
 ],
 "metadata": {
  "kernelspec": {
   "display_name": "Python 3",
   "language": "python",
   "name": "python3"
  },
  "language_info": {
   "codemirror_mode": {
    "name": "ipython",
    "version": 3
   },
   "file_extension": ".py",
   "mimetype": "text/x-python",
   "name": "python",
   "nbconvert_exporter": "python",
   "pygments_lexer": "ipython3",
   "version": "3.11.1"
  },
  "orig_nbformat": 4
 },
 "nbformat": 4,
 "nbformat_minor": 2
}
